{
 "cells": [
  {
   "cell_type": "markdown",
   "metadata": {},
   "source": [
    "# Projekt Zaliczeniowy Modelowanie w Naukach o Ziemi\n",
    "\n",
    "Projekt jest na ocenę. Rezultatem ma być kompletne sprawozdanie. Sprawozdania w formacie pdf przesyłamy w terminie do ostatniego dnia semestru.\n",
    "\n",
    "Dane do projektu: `plik daily_ice_edge.csv`.\n",
    "\n",
    "### Krok 0\n",
    "\n",
    "1. Po przemyśleniu układu danych narysować kontur przedstawiający minimalny zasięg lodu w analizowanym okresie dla wszystkich kątów. \n",
    "\n",
    "  a. Przemyśleć układ danych\n",
    "  \n",
    "  b. Narysować kontur przedstawiający minimalny zasięg lodu w analizowanym okresie dla wszystkich kątów\n",
    "\n",
    "Warto zapoznać się z kształtem Antarktydy.   \n",
    "\n",
    "### Krok 1\n",
    "  \n",
    "1. Dla wszystkich kątów (dla każdego z osobna) znaleźć model matematyczny zasięgu lodu w funkcji czasu. \n",
    "\n",
    "  a. Zbudować model matematyczny dla każdej kolumny w oparciu o funkcji trygonometryczne (sinusoidalna cykliczność; można o to zapytać).\n",
    "\n",
    "Uwaga na próbkowanie w czasie oraz na fakt, że czasami lodu morskiego dla danego kąta może nie być. \n",
    "\n",
    "### Krok 2\n",
    "  \n",
    "1. Stworzyć animację przedstawiającą zmianę w czasie zarówno rzeczywistego jak i wymodelowane.\n",
    "\n",
    "### Krok 3\n",
    " \n",
    "1. Zaproponować i *w miarę możliwości* obliczyć model zasięgu lodu biorący pod uwagę wszystkie dane na raz (`f(Lat, Lon, t)`).\n",
    "\n",
    "  a. Przekonać, że świta nam w głowie jakaś idea.\n",
    "\n",
    "## Wskazówki \n",
    "\n",
    "Można zbudować model bazując na sinusach i cosinusach dla każdego kierunku z osobna. Po powtórzeniu dla wszystkich azymutów pojawi się macierz, którą animujemy.\n",
    "\n",
    "Po narysowaniu minimalnego zasięgu lodu w układzie biegunowym otrzymamy minimalny zasięg lodu przypominający kształt Antarktydy. Uzyskujemy to poprzez znalezienie minimalnej wartości w każdej kolumnie i narysowanie tego w układzie biegunowym.\n"
   ]
  },
  {
   "cell_type": "code",
   "execution_count": 20,
   "metadata": {
    "vscode": {
     "languageId": "r"
    }
   },
   "outputs": [],
   "source": [
    "# install.packages(\"ggplot2\") # nolint: commented_code_linter.\n",
    "# install.packages(\"animation\") # nolint: commented_code_linter.\n",
    "# install.packages(\"tidyverse\") # nolint: commented_code_linter.\n",
    "# install.packages(\"lubridate\") # nolint: commented_code_linter.\n",
    "# install.packages(\"minpack.lm\") # nolint: commented_code_linter.\n",
    "library(ggplot2)\n",
    "library(animation)\n",
    "library(tidyverse)\n",
    "library(lubridate)\n",
    "library(minpack.lm)\n"
   ]
  },
  {
   "cell_type": "markdown",
   "metadata": {},
   "source": [
    "## Dane do projektu\n",
    "\n",
    "Plik `daily_ice_edge.csv` zawiera informację o zasięgu lodu morskiego wokół Antarktydy dla wszystkich długości geograficznych - w formacie długość-szerokość - na przestrzeni wielu lat. Dane są zapisane w formie macierzy, gdzie wiersze odpowiadają szerokości geograficznej, a kolumny długości geograficznej."
   ]
  },
  {
   "cell_type": "code",
   "execution_count": 21,
   "metadata": {
    "vscode": {
     "languageId": "r"
    }
   },
   "outputs": [],
   "source": [
    "path <- \"./data/daily_ice_edge.csv\"\n",
    "daily_ice_edge <- read.csv(path)\n",
    "# 1591 wiersz -> zaczynają się dane codzienne\n"
   ]
  },
  {
   "cell_type": "code",
   "execution_count": 22,
   "metadata": {
    "vscode": {
     "languageId": "r"
    }
   },
   "outputs": [],
   "source": [
    "# View(daily_ice_edge) # nolint: commented_code_linter.\n",
    "# View(daily_open_water) # nolint: commented_code_linter."
   ]
  },
  {
   "cell_type": "markdown",
   "metadata": {},
   "source": [
    "## Minimalny zasięg lodu na Antarktydzie\n",
    "\n",
    "Kontur przedstawiający minimalny zasięg lodu w analizowanym okresie dla wszystkich kątów"
   ]
  },
  {
   "cell_type": "code",
   "execution_count": 23,
   "metadata": {
    "vscode": {
     "languageId": "r"
    }
   },
   "outputs": [
    {
     "data": {
      "image/png": "[encoded data removed]",
      "text/plain": [
       "plot without title"
      ]
     },
     "metadata": {
      "image/png": {
       "height": 420,
       "width": 420
      }
     },
     "output_type": "display_data"
    }
   ],
   "source": [
    "ice_edge_colnum <- length(colnames(daily_ice_edge))\n",
    "\n",
    "ice_edge_min <- c()\n",
    "open_water_min <- c()\n",
    "\n",
    "for (i in 2:(ice_edge_colnum - 1)) {\n",
    "  ice_edge_min[i - 1] <- min(daily_ice_edge[, i], na.rm = TRUE)\n",
    "}\n",
    "ice_edge_min <- as.data.frame(ice_edge_min)\n",
    "\n",
    "ggplot(\n",
    "  data = ice_edge_min, aes(x = seq_along(ice_edge_min), y = ice_edge_min)\n",
    ") +\n",
    "  geom_line() +\n",
    "  coord_polar() +\n",
    "  theme_minimal() +\n",
    "  ylim(-85, -50) +\n",
    "  labs(\n",
    "    title = \"Minimalny zasięg lodu Antarktydy\",\n",
    "    x = \"Azymut [°]\", y = \"\"\n",
    "  ) +\n",
    "  scale_x_continuous(breaks = seq(0, 360, 30)) +\n",
    "  theme(\n",
    "    axis.text.x = element_text(size = 16),\n",
    "    axis.text.y = element_blank(),\n",
    "    axis.title = element_text(size = 24),\n",
    "    plot.title = element_text(size = 24, face = \"bold\", hjust = 0.5),\n",
    "    plot.margin = unit(c(16, 16, 16, 16), \"pt\")\n",
    "  )"
   ]
  },
  {
   "cell_type": "markdown",
   "metadata": {},
   "source": [
    "## Animacja czasu rzeczywistego"
   ]
  },
  {
   "cell_type": "code",
   "execution_count": 24,
   "metadata": {
    "vscode": {
     "languageId": "r"
    }
   },
   "outputs": [
    {
     "name": "stderr",
     "output_type": "stream",
     "text": [
      "Output at: real-animation.gif\n",
      "\n"
     ]
    },
    {
     "data": {
      "text/html": [
       "TRUE"
      ],
      "text/latex": [
       "TRUE"
      ],
      "text/markdown": [
       "TRUE"
      ],
      "text/plain": [
       "[1] TRUE"
      ]
     },
     "metadata": {},
     "output_type": "display_data"
    }
   ],
   "source": [
    "step <- 50\n",
    "interval <- 0.4\n",
    "\n",
    "sequence <- seq(from = 1, to = nrow(daily_ice_edge), by = step)\n",
    "\n",
    "saveGIF(\n",
    "  for (i in sequence) {\n",
    "    day1 <- t(daily_ice_edge[i, ])\n",
    "\n",
    "    start_index <- 2\n",
    "    end_index <- 361\n",
    "\n",
    "    angles <- c()\n",
    "    for (j in seq(start_index, end_index, 1)) angles[j] <- day1[j]\n",
    "\n",
    "    angles <- as.data.frame(angles)\n",
    "    values <- as.numeric(angles[2:361, ])\n",
    "    angles <- as.numeric(seq(start_index, end_index, 1))\n",
    "\n",
    "    df <- data.frame(angles = angles, values = values)\n",
    "    plt <- ggplot(data = df, aes(x = angles, y = values)) +\n",
    "      geom_line() +\n",
    "      coord_polar() +\n",
    "      theme_minimal() +\n",
    "      ylim(-85, -50) +\n",
    "      labs(\n",
    "        title = paste(\"Zasięg lodu na Antarktydzie dnia \", format(\n",
    "          daily_ice_edge$Date[i]\n",
    "        )),\n",
    "        x = \"Azymut [°]\", y = \"\"\n",
    "      ) +\n",
    "      scale_x_continuous(breaks = seq(0, 360, 30)) +\n",
    "      theme(\n",
    "        axis.text.x = element_text(size = 16),\n",
    "        axis.text.y = element_blank(),\n",
    "        axis.title = element_text(size = 24),\n",
    "        plot.title = element_text(size = 32, face = \"bold\", hjust = 0.5),\n",
    "        plot.margin = unit(c(16, 16, 16, 16), \"pt\")\n",
    "      )\n",
    "    print(plt)\n",
    "  },\n",
    "  movie.name = \"real-animation.gif\", interval = interval,\n",
    "  ani.width = 1200, ani.height = 800\n",
    ")"
   ]
  },
  {
   "cell_type": "markdown",
   "metadata": {},
   "source": [
    "## Model matematyczny\n",
    "\n",
    "Dla każdego azymutu w oparciu o funkcji trygonometryczne "
   ]
  },
  {
   "cell_type": "code",
   "execution_count": 25,
   "metadata": {
    "vscode": {
     "languageId": "r"
    }
   },
   "outputs": [],
   "source": [
    "data <- read.csv(path)\n",
    "data$Date <- dmy(data$Date) # Konwersja na typ danych daty\n",
    "data$Days <- as.numeric(\n",
    "  data$Date - min(data$Date)\n",
    ") # Obliczenie liczby dni od początku pomiarów\n",
    "\n",
    "sine_model <- function(x, A, B, C, D) { # nolint: object_name_linter.\n",
    "  A * sin(B * x + C) + D\n",
    "}\n",
    "# A - amplituda\n",
    "# B - częstotliwość\n",
    "# C - przesunięcie fazowe\n",
    "# D - przesunięcie pionowe\n",
    "model_params <- list()\n",
    "\n",
    "# Obliczenie parametrów modelu dla każdej szerokości geograficznej\n",
    "for (i in seq(2, 361, 1)) {\n",
    "  col <- names(data)[i]\n",
    "  day <- data$Days\n",
    "  ice_extent <- data[[col]]\n",
    "\n",
    "  init_params <- list(\n",
    "    A = 1,\n",
    "    B = 2 * pi / 365.25,\n",
    "    C = 0,\n",
    "    D = mean(ice_extent, na.rm = TRUE)\n",
    "  )\n",
    "\n",
    "  fit <- nlsLM(\n",
    "    ice_extent ~ sine_model(day, A, B, C, D),\n",
    "    start = init_params,\n",
    "    control = nls.lm.control(maxiter = 1024)\n",
    "  )\n",
    "\n",
    "  model_params[[col]] <- coef(fit)\n",
    "}\n"
   ]
  },
  {
   "cell_type": "code",
   "execution_count": 26,
   "metadata": {
    "vscode": {
     "languageId": "r"
    }
   },
   "outputs": [
    {
     "name": "stdout",
     "output_type": "stream",
     "text": [
      "Wzór: longitude_0E y = 7.7 sin( 0.02 t + 0.77 ) + -62.33 \n",
      "Wzór: longitude_1E y = 7.94 sin( 0.02 t + 0.76 ) + -62.46 \n",
      "Wzór: longitude_2E y = 8.1 sin( 0.02 t + 0.77 ) + -62.56 \n",
      "Wzór: longitude_3E y = 8.12 sin( 0.02 t + 0.76 ) + -62.57 \n",
      "Wzór: longitude_4E y = 8.09 sin( 0.02 t + 0.76 ) + -62.56 \n",
      "Wzór: longitude_5E y = 8.14 sin( 0.02 t + 0.75 ) + -62.57 \n",
      "Wzór: longitude_6E y = 8.16 sin( 0.02 t + 0.74 ) + -62.53 \n",
      "Wzór: longitude_7E y = 8.16 sin( 0.02 t + 0.73 ) + -62.49 \n",
      "Wzór: longitude_8E y = 8.16 sin( 0.02 t + 0.73 ) + -62.43 \n",
      "Wzór: longitude_9E y = 8.15 sin( 0.02 t + 0.71 ) + -62.38 \n",
      "Wzór: longitude_10E y = 8.13 sin( 0.02 t + 0.71 ) + -62.31 \n",
      "Wzór: longitude_11E y = 8.03 sin( 0.02 t + 0.71 ) + -62.22 \n",
      "Wzór: longitude_12E y = 7.91 sin( 0.02 t + 0.7 ) + -62.15 \n",
      "Wzór: longitude_13E y = 7.79 sin( 0.02 t + 0.69 ) + -62.11 \n",
      "Wzór: longitude_14E y = 7.7 sin( 0.02 t + 0.68 ) + -62.12 \n",
      "Wzór: longitude_15E y = 7.64 sin( 0.02 t + 0.67 ) + -62.18 \n",
      "Wzór: longitude_16E y = 7.51 sin( 0.02 t + 0.66 ) + -62.23 \n",
      "Wzór: longitude_17E y = 7.52 sin( 0.02 t + 0.66 ) + -62.35 \n",
      "Wzór: longitude_18E y = 7.51 sin( 0.02 t + 0.66 ) + -62.43 \n",
      "Wzór: longitude_19E y = 7.5 sin( 0.02 t + 0.64 ) + -62.52 \n",
      "Wzór: longitude_20E y = 7.5 sin( 0.02 t + 0.62 ) + -62.62 \n",
      "Wzór: longitude_21E y = 7.45 sin( 0.02 t + 0.61 ) + -62.68 \n",
      "Wzór: longitude_22E y = 7.38 sin( 0.02 t + 0.59 ) + -62.74 \n",
      "Wzór: longitude_23E y = 7.25 sin( 0.02 t + 0.58 ) + -62.82 \n",
      "Wzór: longitude_24E y = 7.1 sin( 0.02 t + 0.58 ) + -62.92 \n",
      "Wzór: longitude_25E y = 6.89 sin( 0.02 t + 0.58 ) + -63.06 \n",
      "Wzór: longitude_26E y = 6.59 sin( 0.02 t + 0.58 ) + -63.21 \n",
      "Wzór: longitude_27E y = 6.31 sin( 0.02 t + 0.58 ) + -63.41 \n",
      "Wzór: longitude_28E y = 5.98 sin( 0.02 t + 0.61 ) + -63.6 \n",
      "Wzór: longitude_29E y = 5.73 sin( 0.02 t + 0.61 ) + -63.74 \n",
      "Wzór: longitude_30E y = 5.59 sin( 0.02 t + 0.61 ) + -63.8 \n",
      "Wzór: longitude_31E y = 5.57 sin( 0.02 t + 0.61 ) + -63.8 \n",
      "Wzór: longitude_32E y = 5.5 sin( 0.02 t + 0.62 ) + -63.72 \n",
      "Wzór: longitude_33E y = 5.34 sin( 0.02 t + 0.62 ) + -63.65 \n",
      "Wzór: longitude_34E y = 5.24 sin( 0.02 t + 0.63 ) + -63.68 \n",
      "Wzór: longitude_35E y = 5.05 sin( 0.02 t + 0.62 ) + -63.69 \n",
      "Wzór: longitude_36E y = 4.99 sin( 0.02 t + 0.61 ) + -63.8 \n",
      "Wzór: longitude_37E y = 4.89 sin( 0.02 t + 0.6 ) + -63.85 \n",
      "Wzór: longitude_38E y = 4.93 sin( 0.02 t + 0.6 ) + -63.95 \n",
      "Wzór: longitude_39E y = 4.92 sin( 0.02 t + 0.6 ) + -64.05 \n",
      "Wzór: longitude_40E y = 4.9 sin( 0.02 t + 0.59 ) + -64.07 \n",
      "Wzór: longitude_41E y = 4.83 sin( 0.02 t + 0.59 ) + -64.05 \n",
      "Wzór: longitude_42E y = 4.72 sin( 0.02 t + 0.6 ) + -63.99 \n",
      "Wzór: longitude_43E y = 4.6 sin( 0.02 t + 0.6 ) + -63.91 \n",
      "Wzór: longitude_44E y = 4.48 sin( 0.02 t + 0.59 ) + -63.84 \n",
      "Wzór: longitude_45E y = 4.28 sin( 0.02 t + 0.6 ) + -63.74 \n",
      "Wzór: longitude_46E y = 4.22 sin( 0.02 t + 0.61 ) + -63.77 \n",
      "Wzór: longitude_47E y = 4.14 sin( 0.02 t + 0.61 ) + -63.65 \n",
      "Wzór: longitude_48E y = 3.98 sin( 0.02 t + 0.63 ) + -63.57 \n",
      "Wzór: longitude_49E y = 3.95 sin( 0.02 t + 0.65 ) + -63.55 \n",
      "Wzór: longitude_50E y = 3.7 sin( 0.02 t + 0.67 ) + -63.41 \n",
      "Wzór: longitude_51E y = 3.71 sin( 0.02 t + 0.7 ) + -63.35 \n",
      "Wzór: longitude_52E y = 3.57 sin( 0.02 t + 0.72 ) + -63.17 \n",
      "Wzór: longitude_53E y = 3.47 sin( 0.02 t + 0.73 ) + -63.03 \n",
      "Wzór: longitude_54E y = 3.46 sin( 0.02 t + 0.77 ) + -62.95 \n",
      "Wzór: longitude_55E y = 3.44 sin( 0.02 t + 0.79 ) + -62.89 \n",
      "Wzór: longitude_56E y = 3.5 sin( 0.02 t + 0.8 ) + -62.85 \n",
      "Wzór: longitude_57E y = 3.63 sin( 0.02 t + 0.82 ) + -62.84 \n",
      "Wzór: longitude_58E y = 3.71 sin( 0.02 t + 0.84 ) + -62.87 \n",
      "Wzór: longitude_59E y = 3.86 sin( 0.02 t + 0.85 ) + -62.94 \n",
      "Wzór: longitude_60E y = 4 sin( 0.02 t + 0.87 ) + -63.02 \n",
      "Wzór: longitude_61E y = 4.03 sin( 0.02 t + 0.9 ) + -63.08 \n",
      "Wzór: longitude_62E y = 4.05 sin( 0.02 t + 0.94 ) + -63.06 \n",
      "Wzór: longitude_63E y = 4.06 sin( 0.02 t + 0.96 ) + -63.06 \n",
      "Wzór: longitude_64E y = 4.03 sin( 0.02 t + 0.97 ) + -63.07 \n",
      "Wzór: longitude_65E y = 3.96 sin( 0.02 t + 0.98 ) + -63.07 \n",
      "Wzór: longitude_66E y = 3.98 sin( 0.02 t + 1 ) + -63.06 \n",
      "Wzór: longitude_67E y = 3.99 sin( 0.02 t + 1.02 ) + -63.06 \n",
      "Wzór: longitude_68E y = 3.98 sin( 0.02 t + 1.02 ) + -62.96 \n",
      "Wzór: longitude_69E y = 4.05 sin( 0.02 t + 1.03 ) + -62.92 \n",
      "Wzór: longitude_70E y = 4.11 sin( 0.02 t + 1.04 ) + -62.85 \n",
      "Wzór: longitude_71E y = 4.18 sin( 0.02 t + 1.04 ) + -62.76 \n",
      "Wzór: longitude_72E y = 4.36 sin( 0.02 t + 1.06 ) + -62.79 \n",
      "Wzór: longitude_73E y = 4.54 sin( 0.02 t + 1.07 ) + -62.8 \n",
      "Wzór: longitude_74E y = 4.83 sin( 0.02 t + 1.08 ) + -62.77 \n",
      "Wzór: longitude_75E y = 5.11 sin( 0.02 t + 1.09 ) + -62.73 \n",
      "Wzór: longitude_76E y = 5.17 sin( 0.02 t + 1.08 ) + -62.63 \n",
      "Wzór: longitude_77E y = 5.29 sin( 0.02 t + 1.08 ) + -62.59 \n",
      "Wzór: longitude_78E y = 5.14 sin( 0.02 t + 1.05 ) + -62.49 \n",
      "Wzór: longitude_79E y = 4.85 sin( 0.02 t + 1.01 ) + -62.36 \n",
      "Wzór: longitude_80E y = 4.64 sin( 0.02 t + 0.98 ) + -62.21 \n",
      "Wzór: longitude_81E y = 4.45 sin( 0.02 t + 0.96 ) + -62.06 \n",
      "Wzór: longitude_82E y = 4.4 sin( 0.02 t + 0.94 ) + -62.07 \n",
      "Wzór: longitude_83E y = 4.15 sin( 0.02 t + 0.94 ) + -62.01 \n",
      "Wzór: longitude_84E y = 4.12 sin( 0.02 t + 0.95 ) + -62.05 \n",
      "Wzór: longitude_85E y = 4.01 sin( 0.02 t + 0.97 ) + -61.99 \n",
      "Wzór: longitude_86E y = 3.86 sin( 0.02 t + 0.99 ) + -61.99 \n",
      "Wzór: longitude_87E y = 3.51 sin( 0.02 t + 0.99 ) + -62.19 \n",
      "Wzór: longitude_88E y = 3.16 sin( 0.02 t + 0.98 ) + -62.5 \n",
      "Wzór: longitude_89E y = 3.07 sin( 0.02 t + 0.97 ) + -62.69 \n",
      "Wzór: longitude_90E y = 3.1 sin( 0.02 t + 0.96 ) + -62.77 \n",
      "Wzór: longitude_91E y = 3.07 sin( 0.02 t + 0.95 ) + -62.77 \n",
      "Wzór: longitude_92E y = 3.08 sin( 0.02 t + 0.97 ) + -62.71 \n",
      "Wzór: longitude_93E y = 2.99 sin( 0.02 t + 0.95 ) + -62.63 \n",
      "Wzór: longitude_94E y = 2.85 sin( 0.02 t + 0.92 ) + -62.53 \n",
      "Wzór: longitude_95E y = 2.73 sin( 0.02 t + 0.9 ) + -62.46 \n",
      "Wzór: longitude_96E y = 2.66 sin( 0.02 t + 0.87 ) + -62.39 \n",
      "Wzór: longitude_97E y = 2.41 sin( 0.02 t + 0.85 ) + -62.24 \n",
      "Wzór: longitude_98E y = 2.42 sin( 0.02 t + 0.85 ) + -62.26 \n",
      "Wzór: longitude_99E y = 2.29 sin( 0.02 t + 0.86 ) + -62.21 \n",
      "Wzór: longitude_100E y = 2.28 sin( 0.02 t + 0.86 ) + -62.23 \n",
      "Wzór: longitude_101E y = 2.33 sin( 0.02 t + 0.86 ) + -62.31 \n",
      "Wzór: longitude_102E y = 2.28 sin( 0.02 t + 0.85 ) + -62.38 \n",
      "Wzór: longitude_103E y = 2.28 sin( 0.02 t + 0.84 ) + -62.52 \n",
      "Wzór: longitude_104E y = 2.23 sin( 0.02 t + 0.82 ) + -62.68 \n",
      "Wzór: longitude_105E y = 2.21 sin( 0.02 t + 0.84 ) + -62.81 \n",
      "Wzór: longitude_106E y = 2.17 sin( 0.02 t + 0.85 ) + -62.85 \n",
      "Wzór: longitude_107E y = 2.26 sin( 0.02 t + 0.88 ) + -62.92 \n",
      "Wzór: longitude_108E y = 2.42 sin( 0.02 t + 0.91 ) + -63.04 \n",
      "Wzór: longitude_109E y = 2.5 sin( 0.02 t + 0.97 ) + -63.17 \n",
      "Wzór: longitude_110E y = 2.5 sin( 0.02 t + 0.99 ) + -63.25 \n",
      "Wzór: longitude_111E y = 2.35 sin( 0.02 t + 0.99 ) + -63.22 \n",
      "Wzór: longitude_112E y = 2.29 sin( 0.02 t + 1 ) + -63.24 \n",
      "Wzór: longitude_113E y = 2.27 sin( 0.02 t + 0.99 ) + -63.3 \n",
      "Wzór: longitude_114E y = 2.19 sin( 0.02 t + 0.99 ) + -63.35 \n",
      "Wzór: longitude_115E y = 1.93 sin( 0.02 t + 0.99 ) + -63.32 \n",
      "Wzór: longitude_116E y = 1.77 sin( 0.02 t + 1 ) + -63.32 \n",
      "Wzór: longitude_117E y = 1.67 sin( 0.02 t + 1 ) + -63.33 \n",
      "Wzór: longitude_118E y = 1.68 sin( 0.02 t + 0.96 ) + -63.44 \n",
      "Wzór: longitude_119E y = 1.85 sin( 0.02 t + 0.94 ) + -63.61 \n",
      "Wzór: longitude_120E y = 1.97 sin( 0.02 t + 0.92 ) + -63.8 \n",
      "Wzór: longitude_121E y = 2.07 sin( 0.02 t + 0.91 ) + -63.98 \n",
      "Wzór: longitude_122E y = 2.15 sin( 0.02 t + 0.9 ) + -64.07 \n",
      "Wzór: longitude_123E y = 1.89 sin( 0.02 t + 0.88 ) + -64.05 \n",
      "Wzór: longitude_124E y = 1.77 sin( 0.02 t + 0.87 ) + -64.09 \n",
      "Wzór: longitude_125E y = 1.59 sin( 0.02 t + 0.84 ) + -64.08 \n",
      "Wzór: longitude_126E y = 1.36 sin( 0.02 t + 0.82 ) + -64.05 \n",
      "Wzór: longitude_127E y = 1.22 sin( 0.02 t + 0.79 ) + -64.06 \n",
      "Wzór: longitude_128E y = 1.2 sin( 0.02 t + 0.79 ) + -64.07 \n",
      "Wzór: longitude_129E y = 1.25 sin( 0.02 t + 0.78 ) + -64.13 \n",
      "Wzór: longitude_130E y = 1.27 sin( 0.02 t + 0.8 ) + -64.2 \n",
      "Wzór: longitude_131E y = 1.21 sin( 0.02 t + 0.83 ) + -64.22 \n",
      "Wzór: longitude_132E y = 1.33 sin( 0.02 t + 0.86 ) + -64.29 \n",
      "Wzór: longitude_133E y = 1.41 sin( 0.02 t + 0.92 ) + -64.33 \n",
      "Wzór: longitude_134E y = 1.38 sin( 0.02 t + 0.93 ) + -64.25 \n",
      "Wzór: longitude_135E y = 1.38 sin( 0.02 t + 0.89 ) + -64.2 \n",
      "Wzór: longitude_136E y = 1.14 sin( 0.02 t + 0.85 ) + -64.06 \n",
      "Wzór: longitude_137E y = 1.34 sin( 0.02 t + 0.85 ) + -64.02 \n",
      "Wzór: longitude_138E y = 1.57 sin( 0.02 t + 0.89 ) + -64.07 \n",
      "Wzór: longitude_139E y = 1.69 sin( 0.02 t + 0.94 ) + -64.17 \n",
      "Wzór: longitude_140E y = 1.8 sin( 0.02 t + 0.99 ) + -64.27 \n",
      "Wzór: longitude_141E y = 1.95 sin( 0.02 t + 1.1 ) + -64.38 \n",
      "Wzór: longitude_142E y = 1.99 sin( 0.02 t + 1.15 ) + -64.45 \n",
      "Wzór: longitude_143E y = 1.94 sin( 0.02 t + 1.2 ) + -64.51 \n",
      "Wzór: longitude_144E y = 1.96 sin( 0.02 t + 1.27 ) + -64.54 \n",
      "Wzór: longitude_145E y = 1.99 sin( 0.02 t + 1.26 ) + -64.51 \n",
      "Wzór: longitude_146E y = 1.97 sin( 0.02 t + 1.25 ) + -64.43 \n",
      "Wzór: longitude_147E y = 1.95 sin( 0.02 t + 1.26 ) + -64.37 \n",
      "Wzór: longitude_148E y = 1.8 sin( 0.02 t + 1.25 ) + -64.25 \n",
      "Wzór: longitude_149E y = 1.7 sin( 0.02 t + 1.21 ) + -64.11 \n",
      "Wzór: longitude_150E y = 1.67 sin( 0.02 t + 1.18 ) + -63.94 \n",
      "Wzór: longitude_151E y = 1.72 sin( 0.02 t + 1.18 ) + -63.77 \n",
      "Wzór: longitude_152E y = 1.78 sin( 0.02 t + 1.17 ) + -63.66 \n",
      "Wzór: longitude_153E y = 1.85 sin( 0.02 t + 1.17 ) + -63.61 \n",
      "Wzór: longitude_154E y = 1.91 sin( 0.02 t + 1.16 ) + -63.64 \n",
      "Wzór: longitude_155E y = 1.97 sin( 0.02 t + 1.17 ) + -63.64 \n",
      "Wzór: longitude_156E y = 1.96 sin( 0.02 t + 1.17 ) + -63.66 \n",
      "Wzór: longitude_157E y = 1.92 sin( 0.02 t + 1.15 ) + -63.66 \n",
      "Wzór: longitude_158E y = 1.97 sin( 0.02 t + 1.16 ) + -63.65 \n",
      "Wzór: longitude_159E y = 2.03 sin( 0.02 t + 1.15 ) + -63.64 \n",
      "Wzór: longitude_160E y = 2.16 sin( 0.02 t + 1.14 ) + -63.64 \n",
      "Wzór: longitude_161E y = 2.32 sin( 0.02 t + 1.11 ) + -63.7 \n",
      "Wzór: longitude_162E y = 2.45 sin( 0.02 t + 1.09 ) + -63.77 \n",
      "Wzór: longitude_163E y = 2.58 sin( 0.02 t + 1.06 ) + -63.91 \n",
      "Wzór: longitude_164E y = 2.77 sin( 0.02 t + 1.02 ) + -64.12 \n",
      "Wzór: longitude_165E y = 2.96 sin( 0.02 t + 0.99 ) + -64.33 \n",
      "Wzór: longitude_166E y = 3.16 sin( 0.02 t + 0.96 ) + -64.52 \n",
      "Wzór: longitude_167E y = 3.3 sin( 0.02 t + 0.96 ) + -64.72 \n",
      "Wzór: longitude_168E y = 3.43 sin( 0.02 t + 0.96 ) + -64.94 \n",
      "Wzór: longitude_169E y = 3.58 sin( 0.02 t + 0.94 ) + -65.16 \n",
      "Wzór: longitude_170E y = 3.74 sin( 0.02 t + 0.94 ) + -65.35 \n",
      "Wzór: longitude_171E y = 3.88 sin( 0.02 t + 0.94 ) + -65.53 \n",
      "Wzór: longitude_172E y = 4.94 sin( 0.02 t + 1.03 ) + -66.18 \n",
      "Wzór: longitude_173E y = 5.22 sin( 0.02 t + 1.06 ) + -66.41 \n",
      "Wzór: longitude_174E y = 5.4 sin( 0.02 t + 1.07 ) + -66.58 \n",
      "Wzór: longitude_175E y = 5.43 sin( 0.02 t + 1.08 ) + -66.71 \n",
      "Wzór: longitude_176E y = 5.36 sin( 0.02 t + 1.09 ) + -66.84 \n",
      "Wzór: longitude_177E y = 5.38 sin( 0.02 t + 1.1 ) + -67.05 \n",
      "Wzór: longitude_178E y = 5.27 sin( 0.02 t + 1.11 ) + -67.21 \n",
      "Wzór: longitude_179E y = 5.3 sin( 0.02 t + 1.13 ) + -67.39 \n",
      "Wzór: longitude_180E y = 5.25 sin( 0.02 t + 1.15 ) + -67.48 \n",
      "Wzór: longitude_181E y = 5.2 sin( 0.02 t + 1.16 ) + -67.54 \n",
      "Wzór: longitude_182E y = 5 sin( 0.02 t + 1.18 ) + -67.52 \n",
      "Wzór: longitude_183E y = 4.78 sin( 0.02 t + 1.17 ) + -67.42 \n",
      "Wzór: longitude_184E y = 4.68 sin( 0.02 t + 1.17 ) + -67.36 \n",
      "Wzór: longitude_185E y = 4.5 sin( 0.02 t + 1.14 ) + -67.21 \n",
      "Wzór: longitude_186E y = 4.38 sin( 0.02 t + 1.11 ) + -67.08 \n",
      "Wzór: longitude_187E y = 4.31 sin( 0.02 t + 1.09 ) + -66.97 \n",
      "Wzór: longitude_188E y = 4.3 sin( 0.02 t + 1.07 ) + -66.87 \n",
      "Wzór: longitude_189E y = 4.27 sin( 0.02 t + 1.06 ) + -66.77 \n",
      "Wzór: longitude_190E y = 4.13 sin( 0.02 t + 1.06 ) + -66.63 \n",
      "Wzór: longitude_191E y = 4.1 sin( 0.02 t + 1.07 ) + -66.52 \n",
      "Wzór: longitude_192E y = 4.12 sin( 0.02 t + 1.07 ) + -66.41 \n",
      "Wzór: longitude_193E y = 4.19 sin( 0.02 t + 1.08 ) + -66.29 \n",
      "Wzór: longitude_194E y = 4.22 sin( 0.02 t + 1.08 ) + -66.2 \n",
      "Wzór: longitude_195E y = 4.26 sin( 0.02 t + 1.08 ) + -66.17 \n",
      "Wzór: longitude_196E y = 4.34 sin( 0.02 t + 1.08 ) + -66.15 \n",
      "Wzór: longitude_197E y = 4.4 sin( 0.02 t + 1.07 ) + -66.12 \n",
      "Wzór: longitude_198E y = 4.48 sin( 0.02 t + 1.06 ) + -66.09 \n",
      "Wzór: longitude_199E y = 4.52 sin( 0.02 t + 1.05 ) + -66.06 \n",
      "Wzór: longitude_200E y = 4.52 sin( 0.02 t + 1.05 ) + -66.06 \n",
      "Wzór: longitude_201E y = 4.49 sin( 0.02 t + 1.04 ) + -66.06 \n",
      "Wzór: longitude_202E y = 4.47 sin( 0.02 t + 1.03 ) + -66.06 \n",
      "Wzór: longitude_203E y = 4.46 sin( 0.02 t + 1.02 ) + -66.04 \n",
      "Wzór: longitude_204E y = 4.51 sin( 0.02 t + 1.02 ) + -66 \n",
      "Wzór: longitude_205E y = 4.55 sin( 0.02 t + 1.01 ) + -65.93 \n",
      "Wzór: longitude_206E y = 4.63 sin( 0.02 t + 1 ) + -65.87 \n",
      "Wzór: longitude_207E y = 4.76 sin( 0.02 t + 1 ) + -65.79 \n",
      "Wzór: longitude_208E y = 4.86 sin( 0.02 t + 1 ) + -65.73 \n",
      "Wzór: longitude_209E y = 4.99 sin( 0.02 t + 0.98 ) + -65.68 \n",
      "Wzór: longitude_210E y = 5.11 sin( 0.02 t + 0.96 ) + -65.66 \n",
      "Wzór: longitude_211E y = 5.21 sin( 0.02 t + 0.94 ) + -65.66 \n",
      "Wzór: longitude_212E y = 5.3 sin( 0.02 t + 0.92 ) + -65.66 \n",
      "Wzór: longitude_213E y = 5.31 sin( 0.02 t + 0.89 ) + -65.71 \n",
      "Wzór: longitude_214E y = 5.29 sin( 0.02 t + 0.85 ) + -65.78 \n",
      "Wzór: longitude_215E y = 5.25 sin( 0.02 t + 0.81 ) + -65.87 \n",
      "Wzór: longitude_216E y = 5.2 sin( 0.02 t + 0.78 ) + -66 \n",
      "Wzór: longitude_217E y = 5.13 sin( 0.02 t + 0.74 ) + -66.12 \n",
      "Wzór: longitude_218E y = 5.05 sin( 0.02 t + 0.71 ) + -66.24 \n",
      "Wzór: longitude_219E y = 4.93 sin( 0.02 t + 0.7 ) + -66.36 \n",
      "Wzór: longitude_220E y = 4.83 sin( 0.02 t + 0.69 ) + -66.44 \n",
      "Wzór: longitude_221E y = 4.74 sin( 0.02 t + 0.67 ) + -66.5 \n",
      "Wzór: longitude_222E y = 4.64 sin( 0.02 t + 0.65 ) + -66.57 \n",
      "Wzór: longitude_223E y = 4.54 sin( 0.02 t + 0.63 ) + -66.63 \n",
      "Wzór: longitude_224E y = 4.41 sin( 0.02 t + 0.62 ) + -66.7 \n",
      "Wzór: longitude_225E y = 4.24 sin( 0.02 t + 0.61 ) + -66.78 \n",
      "Wzór: longitude_226E y = 4.07 sin( 0.02 t + 0.58 ) + -66.9 \n",
      "Wzór: longitude_227E y = 3.86 sin( 0.02 t + 0.55 ) + -66.87 \n",
      "Wzór: longitude_228E y = 3.62 sin( 0.02 t + 0.53 ) + -66.91 \n",
      "Wzór: longitude_229E y = 3.36 sin( 0.02 t + 0.53 ) + -66.93 \n",
      "Wzór: longitude_230E y = 3.17 sin( 0.02 t + 0.53 ) + -66.95 \n",
      "Wzór: longitude_231E y = 3.01 sin( 0.02 t + 0.54 ) + -66.97 \n",
      "Wzór: longitude_232E y = 2.87 sin( 0.02 t + 0.56 ) + -67.04 \n",
      "Wzór: longitude_233E y = 2.78 sin( 0.02 t + 0.58 ) + -67.14 \n",
      "Wzór: longitude_234E y = 2.72 sin( 0.02 t + 0.59 ) + -67.24 \n",
      "Wzór: longitude_235E y = 2.69 sin( 0.02 t + 0.63 ) + -67.34 \n",
      "Wzór: longitude_236E y = 2.74 sin( 0.02 t + 0.66 ) + -67.41 \n",
      "Wzór: longitude_237E y = 2.77 sin( 0.02 t + 0.67 ) + -67.49 \n",
      "Wzór: longitude_238E y = 2.81 sin( 0.02 t + 0.69 ) + -67.59 \n",
      "Wzór: longitude_239E y = 2.81 sin( 0.02 t + 0.69 ) + -67.71 \n",
      "Wzór: longitude_240E y = 2.8 sin( 0.02 t + 0.7 ) + -67.8 \n",
      "Wzór: longitude_241E y = 2.73 sin( 0.02 t + 0.72 ) + -67.87 \n",
      "Wzór: longitude_242E y = 2.65 sin( 0.02 t + 0.74 ) + -67.93 \n",
      "Wzór: longitude_243E y = 2.62 sin( 0.02 t + 0.76 ) + -68 \n",
      "Wzór: longitude_244E y = 2.59 sin( 0.02 t + 0.76 ) + -68.03 \n",
      "Wzór: longitude_245E y = 2.61 sin( 0.02 t + 0.76 ) + -68.07 \n",
      "Wzór: longitude_246E y = 2.57 sin( 0.02 t + 0.77 ) + -68.11 \n",
      "Wzór: longitude_247E y = 2.48 sin( 0.02 t + 0.77 ) + -68.11 \n",
      "Wzór: longitude_248E y = 2.45 sin( 0.02 t + 0.78 ) + -68.12 \n",
      "Wzór: longitude_249E y = 2.42 sin( 0.02 t + 0.8 ) + -68.12 \n",
      "Wzór: longitude_250E y = 2.46 sin( 0.02 t + 0.83 ) + -68.13 \n",
      "Wzór: longitude_251E y = 2.52 sin( 0.02 t + 0.85 ) + -68.14 \n",
      "Wzór: longitude_252E y = 2.54 sin( 0.02 t + 0.85 ) + -68.18 \n",
      "Wzór: longitude_253E y = 2.48 sin( 0.02 t + 0.85 ) + -68.28 \n",
      "Wzór: longitude_254E y = 2.33 sin( 0.02 t + 0.81 ) + -68.41 \n",
      "Wzór: longitude_255E y = 2.21 sin( 0.02 t + 0.81 ) + -68.46 \n",
      "Wzór: longitude_256E y = 2.18 sin( 0.02 t + 0.82 ) + -68.51 \n",
      "Wzór: longitude_257E y = 2.14 sin( 0.02 t + 0.83 ) + -68.51 \n",
      "Wzór: longitude_258E y = 2.08 sin( 0.02 t + 0.83 ) + -68.5 \n",
      "Wzór: longitude_259E y = 2.05 sin( 0.02 t + 0.84 ) + -68.53 \n",
      "Wzór: longitude_260E y = 2.04 sin( 0.02 t + 0.87 ) + -68.56 \n",
      "Wzór: longitude_261E y = 2.04 sin( 0.02 t + 0.86 ) + -68.57 \n",
      "Wzór: longitude_262E y = 2.05 sin( 0.02 t + 0.85 ) + -68.54 \n",
      "Wzór: longitude_263E y = 2.07 sin( 0.02 t + 0.85 ) + -68.51 \n",
      "Wzór: longitude_264E y = 2.05 sin( 0.02 t + 0.85 ) + -68.47 \n",
      "Wzór: longitude_265E y = 2.04 sin( 0.02 t + 0.87 ) + -68.4 \n",
      "Wzór: longitude_266E y = 2.02 sin( 0.02 t + 0.89 ) + -68.34 \n",
      "Wzór: longitude_267E y = 2.06 sin( 0.02 t + 0.92 ) + -68.33 \n",
      "Wzór: longitude_268E y = 2.12 sin( 0.02 t + 0.93 ) + -68.35 \n",
      "Wzór: longitude_269E y = 2.17 sin( 0.02 t + 0.92 ) + -68.34 \n",
      "Wzór: longitude_270E y = 2.12 sin( 0.02 t + 0.93 ) + -68.19 \n",
      "Wzór: longitude_271E y = 2.12 sin( 0.02 t + 0.93 ) + -68.15 \n",
      "Wzór: longitude_272E y = 2.16 sin( 0.02 t + 0.96 ) + -68.14 \n",
      "Wzór: longitude_273E y = 2.2 sin( 0.02 t + 0.98 ) + -68.19 \n",
      "Wzór: longitude_274E y = 2.31 sin( 0.02 t + 1 ) + -68.22 \n",
      "Wzór: longitude_275E y = 2.55 sin( 0.02 t + 1 ) + -68.31 \n",
      "Wzór: longitude_276E y = 2.71 sin( 0.02 t + 0.99 ) + -68.39 \n",
      "Wzór: longitude_277E y = 2.83 sin( 0.02 t + 0.98 ) + -68.4 \n",
      "Wzór: longitude_278E y = 2.92 sin( 0.02 t + 0.99 ) + -68.35 \n",
      "Wzór: longitude_279E y = 3.09 sin( 0.02 t + 1.01 ) + -68.24 \n",
      "Wzór: longitude_280E y = 3.24 sin( 0.02 t + 1 ) + -68.12 \n",
      "Wzór: longitude_281E y = 3.27 sin( 0.02 t + 0.99 ) + -68 \n",
      "Wzór: longitude_282E y = 3.21 sin( 0.02 t + 0.97 ) + -67.91 \n",
      "Wzór: longitude_283E y = 3.11 sin( 0.02 t + 0.97 ) + -67.75 \n",
      "Wzór: longitude_284E y = 3.08 sin( 0.02 t + 0.98 ) + -67.62 \n",
      "Wzór: longitude_285E y = 2.62 sin( 0.02 t + 0.99 ) + -67.24 \n",
      "Wzór: longitude_286E y = 2.54 sin( 0.02 t + 1 ) + -67.11 \n",
      "Wzór: longitude_287E y = 2.54 sin( 0.02 t + 1.01 ) + -66.95 \n",
      "Wzór: longitude_288E y = 2.63 sin( 0.02 t + 1.03 ) + -66.83 \n",
      "Wzór: longitude_289E y = 2.64 sin( 0.02 t + 1.03 ) + -66.66 \n",
      "Wzór: longitude_290E y = 2.61 sin( 0.02 t + 1.01 ) + -66.52 \n",
      "Wzór: longitude_291E y = 2.86 sin( 0.02 t + 0.96 ) + -66.61 \n",
      "Wzór: longitude_292E y = 1.93 sin( 0.02 t + 0.98 ) + -65.71 \n",
      "Wzór: longitude_293E y = 1.81 sin( 0.02 t + 0.95 ) + -65.42 \n",
      "Wzór: longitude_294E y = 2.09 sin( 0.02 t + 0.84 ) + -65.45 \n",
      "Wzór: longitude_295E y = 1.47 sin( 0.02 t + 0.92 ) + -64.69 \n",
      "Wzór: longitude_296E y = 1.67 sin( 0.02 t + 0.85 ) + -64.76 \n",
      "Wzór: longitude_297E y = 1.04 sin( 0.02 t + 0.99 ) + -63.9 \n",
      "Wzór: longitude_298E y = 1.05 sin( 0.02 t + 0.98 ) + -63.81 \n",
      "Wzór: longitude_299E y = 1.19 sin( 0.02 t + 1.03 ) + -63.9 \n",
      "Wzór: longitude_300E y = 1.04 sin( 0.02 t + 1.11 ) + -63.47 \n",
      "Wzór: longitude_301E y = 1.04 sin( 0.02 t + 1.2 ) + -63.22 \n",
      "Wzór: longitude_302E y = 0.97 sin( 0.02 t + 1.27 ) + -62.92 \n",
      "Wzór: longitude_303E y = 0.93 sin( 0.02 t + 1.34 ) + -62.71 \n",
      "Wzór: longitude_304E y = 1.03 sin( 0.02 t + 1.4 ) + -62.67 \n",
      "Wzór: longitude_305E y = 1.04 sin( 0.02 t + 1.48 ) + -62.43 \n",
      "Wzór: longitude_306E y = 1.77 sin( 0.02 t + 1.6 ) + -62.75 \n",
      "Wzór: longitude_307E y = 1.75 sin( 0.02 t + 1.6 ) + -62.45 \n",
      "Wzór: longitude_308E y = 1.82 sin( 0.02 t + 1.56 ) + -62.21 \n",
      "Wzór: longitude_309E y = 1.98 sin( 0.02 t + 1.52 ) + -62.03 \n",
      "Wzór: longitude_310E y = 2.16 sin( 0.02 t + 1.48 ) + -61.86 \n",
      "Wzór: longitude_311E y = 2.34 sin( 0.02 t + 1.4 ) + -61.76 \n",
      "Wzór: longitude_312E y = 2.55 sin( 0.02 t + 1.33 ) + -61.75 \n",
      "Wzór: longitude_313E y = 2.84 sin( 0.02 t + 1.23 ) + -61.78 \n",
      "Wzór: longitude_314E y = 3.06 sin( 0.02 t + 1.15 ) + -61.89 \n",
      "Wzór: longitude_315E y = 3.29 sin( 0.02 t + 1.12 ) + -62 \n",
      "Wzór: longitude_316E y = 3.46 sin( 0.02 t + 1.08 ) + -62.09 \n",
      "Wzór: longitude_317E y = 3.71 sin( 0.02 t + 1.03 ) + -61.94 \n",
      "Wzór: longitude_318E y = 3.87 sin( 0.02 t + 1 ) + -61.88 \n",
      "Wzór: longitude_319E y = 4 sin( 0.02 t + 0.98 ) + -61.86 \n",
      "Wzór: longitude_320E y = 4.14 sin( 0.02 t + 0.96 ) + -61.83 \n",
      "Wzór: longitude_321E y = 4.37 sin( 0.02 t + 0.95 ) + -61.83 \n",
      "Wzór: longitude_322E y = 4.68 sin( 0.02 t + 0.93 ) + -61.86 \n",
      "Wzór: longitude_323E y = 4.98 sin( 0.02 t + 0.91 ) + -61.92 \n",
      "Wzór: longitude_324E y = 5.26 sin( 0.02 t + 0.89 ) + -61.99 \n",
      "Wzór: longitude_325E y = 5.53 sin( 0.02 t + 0.89 ) + -61.98 \n",
      "Wzór: longitude_326E y = 5.78 sin( 0.02 t + 0.88 ) + -62.06 \n",
      "Wzór: longitude_327E y = 5.92 sin( 0.02 t + 0.88 ) + -62.09 \n",
      "Wzór: longitude_328E y = 6.11 sin( 0.02 t + 0.86 ) + -62.09 \n",
      "Wzór: longitude_329E y = 6.35 sin( 0.02 t + 0.87 ) + -62.16 \n",
      "Wzór: longitude_330E y = 6.57 sin( 0.02 t + 0.88 ) + -62.13 \n",
      "Wzór: longitude_331E y = 6.89 sin( 0.02 t + 0.89 ) + -62.05 \n",
      "Wzór: longitude_332E y = 7.16 sin( 0.02 t + 0.89 ) + -62.01 \n",
      "Wzór: longitude_333E y = 7.4 sin( 0.02 t + 0.89 ) + -62 \n",
      "Wzór: longitude_334E y = 7.61 sin( 0.02 t + 0.89 ) + -61.96 \n",
      "Wzór: longitude_335E y = 7.69 sin( 0.02 t + 0.89 ) + -62.02 \n",
      "Wzór: longitude_336E y = 7.62 sin( 0.02 t + 0.9 ) + -62.26 \n",
      "Wzór: longitude_337E y = 7.36 sin( 0.02 t + 0.9 ) + -62.63 \n",
      "Wzór: longitude_338E y = 7.09 sin( 0.02 t + 0.88 ) + -62.96 \n",
      "Wzór: longitude_339E y = 7.25 sin( 0.02 t + 0.86 ) + -62.93 \n",
      "Wzór: longitude_340E y = 7.4 sin( 0.02 t + 0.87 ) + -62.95 \n",
      "Wzór: longitude_341E y = 7.37 sin( 0.02 t + 0.85 ) + -62.9 \n",
      "Wzór: longitude_342E y = 7.33 sin( 0.02 t + 0.85 ) + -62.85 \n",
      "Wzór: longitude_343E y = 7.37 sin( 0.02 t + 0.85 ) + -62.83 \n",
      "Wzór: longitude_344E y = 7.38 sin( 0.02 t + 0.85 ) + -62.79 \n",
      "Wzór: longitude_345E y = 7.4 sin( 0.02 t + 0.85 ) + -62.74 \n",
      "Wzór: longitude_346E y = 7.38 sin( 0.02 t + 0.85 ) + -62.65 \n",
      "Wzór: longitude_347E y = 7.41 sin( 0.02 t + 0.85 ) + -62.61 \n",
      "Wzór: longitude_348E y = 7.45 sin( 0.02 t + 0.85 ) + -62.6 \n",
      "Wzór: longitude_349E y = 7.4 sin( 0.02 t + 0.85 ) + -62.54 \n",
      "Wzór: longitude_350E y = 7.36 sin( 0.02 t + 0.84 ) + -62.47 \n",
      "Wzór: longitude_351E y = 7.41 sin( 0.02 t + 0.85 ) + -62.47 \n",
      "Wzór: longitude_352E y = 7.4 sin( 0.02 t + 0.84 ) + -62.42 \n",
      "Wzór: longitude_353E y = 7.48 sin( 0.02 t + 0.84 ) + -62.41 \n",
      "Wzór: longitude_354E y = 7.52 sin( 0.02 t + 0.84 ) + -62.39 \n",
      "Wzór: longitude_355E y = 7.59 sin( 0.02 t + 0.83 ) + -62.39 \n",
      "Wzór: longitude_356E y = 7.65 sin( 0.02 t + 0.82 ) + -62.4 \n",
      "Wzór: longitude_357E y = 7.77 sin( 0.02 t + 0.81 ) + -62.42 \n",
      "Wzór: longitude_358E y = 7.94 sin( 0.02 t + 0.8 ) + -62.48 \n",
      "Wzór: longitude_359E y = 8 sin( 0.02 t + 0.79 ) + -62.51 \n"
     ]
    }
   ],
   "source": [
    "day <- data$Days\n",
    "day_num <- length(day)\n",
    "azimuths_num <- length(model_params)\n",
    "\n",
    "time <- seq(1, day_num, 1) # nolint: object_name_linter.\n",
    "\n",
    "results <- data.frame(matrix(nrow = length(day), ncol = azimuths_num))\n",
    "names(results) <- paste0(\"azimuth_\", seq(1, azimuths_num, 1))\n",
    "\n",
    "for (i in seq(1, length(model_params), 1)) {\n",
    "  params <- model_params[[col]]\n",
    "  ice_extent <- data$params\n",
    "\n",
    "  Y <- sine_model( # nolint: object_name_linter.\n",
    "    time, params[\"A\"], params[\"B\"], params[\"C\"], params[\"D\"]\n",
    "  )\n",
    "\n",
    "  results[, i] <- Y\n",
    "\n",
    "  col <- names(data)[i + 1]\n",
    "\n",
    "  a <- round(params[\"A\"], 2)\n",
    "  b <- round(params[\"B\"], 2)\n",
    "  c <- round(params[\"C\"], 2)\n",
    "  d <- round(params[\"D\"], 2)\n",
    "\n",
    "  cat(\n",
    "    \"Wzór:\", col, \"y =\", a, \"sin(\", b, \"t +\", c, \") +\", d, \"\\n\"\n",
    "  )\n",
    "}\n"
   ]
  },
  {
   "cell_type": "markdown",
   "metadata": {},
   "source": [
    "## Animacja modelu"
   ]
  },
  {
   "cell_type": "code",
   "execution_count": 27,
   "metadata": {
    "vscode": {
     "languageId": "r"
    }
   },
   "outputs": [
    {
     "name": "stderr",
     "output_type": "stream",
     "text": [
      "Output at: model-animation.gif\n",
      "\n"
     ]
    },
    {
     "data": {
      "text/html": [
       "TRUE"
      ],
      "text/latex": [
       "TRUE"
      ],
      "text/markdown": [
       "TRUE"
      ],
      "text/plain": [
       "[1] TRUE"
      ]
     },
     "metadata": {},
     "output_type": "display_data"
    }
   ],
   "source": [
    "saveGIF(\n",
    "  for (i in seq(1, nrow(results), step)) {\n",
    "    plt <- ggplot() +\n",
    "      geom_line(aes(x = seq(1, azimuths_num, 1), y = unlist(results[i, ]))) +\n",
    "      coord_polar() +\n",
    "      scale_y_continuous(limits = c(-85, -50)) +\n",
    "      theme_minimal() +\n",
    "      labs(\n",
    "        title = paste(\n",
    "          \"Modelowany zasięg lodu na Antarktydzie dnia \",\n",
    "          format(daily_ice_edge$Date[i])\n",
    "        ),\n",
    "        x = \"Azymut [°]\", y = \"\"\n",
    "      ) +\n",
    "      scale_x_continuous(breaks = seq(0, 360, 30)) +\n",
    "      theme(\n",
    "        axis.text.x = element_text(size = 16),\n",
    "        axis.text.y = element_blank(),\n",
    "        axis.title = element_text(size = 24),\n",
    "        plot.title = element_text(size = 32, face = \"bold\", hjust = 0.5),\n",
    "        plot.margin = unit(c(16, 16, 16, 16), \"pt\")\n",
    "      )\n",
    "\n",
    "    print(plt)\n",
    "  },\n",
    "  movie.name = \"model-animation.gif\", interval = interval,\n",
    "  ani.width = 1200, ani.height = 800\n",
    ")\n"
   ]
  },
  {
   "cell_type": "markdown",
   "metadata": {},
   "source": [
    "## Łączona animacja"
   ]
  },
  {
   "cell_type": "code",
   "execution_count": 28,
   "metadata": {
    "vscode": {
     "languageId": "r"
    }
   },
   "outputs": [
    {
     "name": "stderr",
     "output_type": "stream",
     "text": [
      "Output at: combined-animation.gif\n",
      "\n"
     ]
    },
    {
     "data": {
      "text/html": [
       "TRUE"
      ],
      "text/latex": [
       "TRUE"
      ],
      "text/markdown": [
       "TRUE"
      ],
      "text/plain": [
       "[1] TRUE"
      ]
     },
     "metadata": {},
     "output_type": "display_data"
    }
   ],
   "source": [
    "sequence <- seq(from = 1, to = nrow(daily_ice_edge), by = step)\n",
    "\n",
    "saveGIF(\n",
    "  for (i in sequence) {\n",
    "    day1 <- t(daily_ice_edge[i, ])\n",
    "\n",
    "    start_index <- 2\n",
    "    end_index <- 361\n",
    "\n",
    "    angles <- c()\n",
    "    for (j in seq(start_index, end_index, 1)) angles[j] <- day1[j]\n",
    "\n",
    "    angles <- as.data.frame(angles)\n",
    "    values <- as.numeric(angles[2:361, ])\n",
    "    angles <- as.numeric(seq(start_index, end_index, 1))\n",
    "\n",
    "    df <- data.frame(angles = angles, values = values)\n",
    "    plt <- ggplot() +\n",
    "      geom_line(aes(x = df$angles, y = df$values, colour = \"Rzeczywisty\")) +\n",
    "      geom_line(aes(\n",
    "        x = seq(1, azimuths_num, 1), y = unlist(results[i, ]),\n",
    "        colour = \"Wymodelowany\"\n",
    "      )) +\n",
    "      scale_color_manual(\n",
    "        name = \"Zasięg lodu\",\n",
    "        values = c(\"Rzeczywisty\" = \"black\", \"Wymodelowany\" = \"red\")\n",
    "      )  +\n",
    "      coord_polar() +\n",
    "      theme_minimal() +\n",
    "      ylim(-85, -50) +\n",
    "      labs(\n",
    "        title = paste(\"Zasięg lodu na Antarktydzie dnia \", format(\n",
    "          daily_ice_edge$Date[i]\n",
    "        )),\n",
    "        x = \"Azymut [°]\", y = \"\"\n",
    "      ) +\n",
    "      scale_x_continuous(breaks = seq(0, 360, 30)) +\n",
    "      theme(\n",
    "        axis.text.x = element_text(size = 16),\n",
    "        axis.text.y = element_blank(),\n",
    "        axis.title = element_text(size = 24),\n",
    "        plot.title = element_text(size = 32, face = \"bold\", hjust = 0.5),\n",
    "        plot.margin = unit(c(16, 16, 16, 16), \"pt\"),\n",
    "        legend.key.size = unit(24, \"pt\"),\n",
    "        legend.text = element_text(size = 24),\n",
    "        legend.title = element_text(size = 32, face = \"bold\")\n",
    "      )\n",
    "    print(plt)\n",
    "  },\n",
    "  movie.name = \"combined-animation.gif\", interval = interval,\n",
    "  ani.width = 1200, ani.height = 800\n",
    ")"
   ]
  },
  {
   "cell_type": "markdown",
   "metadata": {},
   "source": [
    "## Funkcja z 3 parametrami"
   ]
  },
  {
   "cell_type": "code",
   "execution_count": 37,
   "metadata": {
    "vscode": {
     "languageId": "r"
    }
   },
   "outputs": [
    {
     "name": "stdout",
     "output_type": "stream",
     "text": [
      "Zasięg lodu na szerokości geograficznej 100 ° i długości 10 ° w czasie t =  1 wynosi:  -56.21737 \n"
     ]
    }
   ],
   "source": [
    "predict_ice_extent <- function(lat, lon, t) {\n",
    "  target_lon <- paste(\"longitude_\", lon, \"E\", sep = \"\")\n",
    "  params <- model_params[[target_lon]]\n",
    "  sine_model(t, params[\"A\"], params[\"B\"], params[\"C\"], params[\"D\"])\n",
    "}\n",
    "\n",
    "lat <- 100\n",
    "lon <- 10\n",
    "t <- 1\n",
    "\n",
    "predicted_extent <- predict_ice_extent(lat = lat, lon = lon, t = t)\n",
    "cat(\n",
    "  \"Zasięg lodu na szerokości geograficznej\", lat, \"° i długości\",\n",
    "  lon, \"° w czasie t = \", t, \"wynosi: \", predicted_extent, \"\\n\"\n",
    ")\n"
   ]
  }
 ],
 "metadata": {
  "kernelspec": {
   "display_name": "R",
   "language": "R",
   "name": "ir"
  },
  "language_info": {
   "codemirror_mode": "r",
   "file_extension": ".r",
   "mimetype": "text/x-r-source",
   "name": "R",
   "pygments_lexer": "r",
   "version": "4.4.0"
  }
 },
 "nbformat": 4,
 "nbformat_minor": 2
}
