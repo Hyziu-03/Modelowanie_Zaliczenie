{
 "cells": [
  {
   "cell_type": "markdown",
   "metadata": {},
   "source": [
    "# Projekt Zaliczeniowy Modelowanie w Naukach o Ziemi\n",
    "\n",
    "Projekt jest na ocenę. Rezultatem ma być kompletne sprawozdanie. Sprawozdania w formacie pdf przesyłamy w terminie do ostatniego dnia semestru.\n",
    "\n",
    "Dane do projektu: `plik daily_ice_edge.csv`.\n",
    "\n",
    "### Krok 0\n",
    "\n",
    "1. Po przemyśleniu układu danych narysować kontur przedstawiający minimalny zasięg lodu w analizowanym okresie dla wszystkich kątów. \n",
    "\n",
    "  a. Przemyśleć układ danych\n",
    "  \n",
    "  b. Narysować kontur przedstawiający minimalny zasięg lodu w analizowanym okresie dla wszystkich kątów\n",
    "\n",
    "Warto zapoznać się z kształtem Antarktydy.   \n",
    "\n",
    "### Krok 1\n",
    "  \n",
    "1. Dla wszystkich kątów (dla każdego z osobna) znaleźć model matematyczny zasięgu lodu w funkcji czasu. \n",
    "\n",
    "  a. Zbudować model matematyczny dla każdej kolumny w oparciu o funkcji trygonometryczne (sinusoidalna cykliczność; można o to zapytać).\n",
    "\n",
    "Uwaga na próbkowanie w czasie oraz na fakt, że czasami lodu morskiego dla danego kąta może nie być. \n",
    "\n",
    "### Krok 2\n",
    "  \n",
    "1. Stworzyć animację przedstawiającą zmianę w czasie zarówno rzeczywistego jak i wymodelowane.\n",
    "\n",
    "### Krok 3\n",
    " \n",
    "1. Zaproponować i *w miarę możliwości* obliczyć model zasięgu lodu biorący pod uwagę wszystkie dane na raz (`f(Lat, Lon, t)`).\n",
    "\n",
    "  a. Przekonać, że świta nam w głowie jakaś idea.\n",
    "\n",
    "## Wskazówki \n",
    "\n",
    "Można zbudować model bazując na sinusach i cosinusach dla każdego kierunku z osobna. Po powtórzeniu dla wszystkich azymutów pojawi się macierz, którą animujemy.\n",
    "\n",
    "Po narysowaniu minimalnego zasięgu lodu w układzie biegunowym otrzymamy minimalny zasięg lodu przypominający kształt Antarktydy. Uzyskujemy to poprzez znalezienie minimalnej wartości w każdej kolumnie i narysowanie tego w układzie biegunowym.\n"
   ]
  },
  {
   "cell_type": "code",
   "execution_count": 1,
   "metadata": {
    "vscode": {
     "languageId": "r"
    }
   },
   "outputs": [
    {
     "name": "stderr",
     "output_type": "stream",
     "text": [
      "── \u001b[1mAttaching core tidyverse packages\u001b[22m ──────────────────────── tidyverse 2.0.0 ──\n",
      "\u001b[32m✔\u001b[39m \u001b[34mdplyr    \u001b[39m 1.1.4     \u001b[32m✔\u001b[39m \u001b[34mreadr    \u001b[39m 2.1.5\n",
      "\u001b[32m✔\u001b[39m \u001b[34mforcats  \u001b[39m 1.0.0     \u001b[32m✔\u001b[39m \u001b[34mstringr  \u001b[39m 1.5.1\n",
      "\u001b[32m✔\u001b[39m \u001b[34mlubridate\u001b[39m 1.9.3     \u001b[32m✔\u001b[39m \u001b[34mtibble   \u001b[39m 3.2.1\n",
      "\u001b[32m✔\u001b[39m \u001b[34mpurrr    \u001b[39m 1.0.2     \u001b[32m✔\u001b[39m \u001b[34mtidyr    \u001b[39m 1.3.1\n",
      "── \u001b[1mConflicts\u001b[22m ────────────────────────────────────────── tidyverse_conflicts() ──\n",
      "\u001b[31m✖\u001b[39m \u001b[34mdplyr\u001b[39m::\u001b[32mfilter()\u001b[39m masks \u001b[34mstats\u001b[39m::filter()\n",
      "\u001b[31m✖\u001b[39m \u001b[34mdplyr\u001b[39m::\u001b[32mlag()\u001b[39m    masks \u001b[34mstats\u001b[39m::lag()\n",
      "\u001b[36mℹ\u001b[39m Use the conflicted package (\u001b[3m\u001b[34m<http://conflicted.r-lib.org/>\u001b[39m\u001b[23m) to force all conflicts to become errors\n"
     ]
    }
   ],
   "source": [
    "# install.packages(\"ggplot2\") # nolint: commented_code_linter.\n",
    "# install.packages(\"animation\") # nolint: commented_code_linter.\n",
    "# install.packages(\"tidyverse\") # nolint: commented_code_linter.\n",
    "# install.packages(\"lubridate\") # nolint: commented_code_linter.\n",
    "# install.packages(\"minpack.lm\") # nolint: commented_code_linter.\n",
    "library(ggplot2)\n",
    "library(animation)\n",
    "library(tidyverse)\n",
    "library(lubridate)\n",
    "library(minpack.lm)\n"
   ]
  },
  {
   "cell_type": "markdown",
   "metadata": {},
   "source": [
    "## Dane do projektu\n",
    "\n",
    "Plik `daily_ice_edge.csv` zawiera informację o zasięgu lodu morskiego wokół Antarktydy dla wszystkich długości geograficznych - w formacie długość-szerokość - na przestrzeni wielu lat. Dane są zapisane w formie macierzy, gdzie wiersze odpowiadają szerokości geograficznej, a kolumny długości geograficznej."
   ]
  },
  {
   "cell_type": "code",
   "execution_count": 2,
   "metadata": {
    "vscode": {
     "languageId": "r"
    }
   },
   "outputs": [],
   "source": [
    "path <- \"./data/daily_ice_edge.csv\"\n",
    "daily_ice_edge <- read.csv(path)\n",
    "# 1591 wiersz -> zaczynają się dane codzienne\n"
   ]
  },
  {
   "cell_type": "code",
   "execution_count": 3,
   "metadata": {
    "vscode": {
     "languageId": "r"
    }
   },
   "outputs": [],
   "source": [
    "# View(daily_ice_edge) # nolint: commented_code_linter.\n",
    "# View(daily_open_water) # nolint: commented_code_linter."
   ]
  },
  {
   "cell_type": "markdown",
   "metadata": {},
   "source": [
    "## Minimalny zasięg lodu na Antarktydzie\n",
    "\n",
    "Kontur przedstawiający minimalny zasięg lodu w analizowanym okresie dla wszystkich kątów"
   ]
  },
  {
   "cell_type": "code",
   "execution_count": 4,
   "metadata": {
    "vscode": {
     "languageId": "r"
    }
   },
   "outputs": [
    {
     "data": {
      "image/png": "[encoded data removed]",
      "text/plain": [
       "plot without title"
      ]
     },
     "metadata": {
      "image/png": {
       "height": 420,
       "width": 420
      }
     },
     "output_type": "display_data"
    }
   ],
   "source": [
    "ice_edge_colnum <- length(colnames(daily_ice_edge))\n",
    "\n",
    "ice_edge_min <- c()\n",
    "open_water_min <- c()\n",
    "\n",
    "for (i in 2:(ice_edge_colnum - 1)) {\n",
    "  ice_edge_min[i - 1] <- min(daily_ice_edge[, i], na.rm = TRUE)\n",
    "}\n",
    "ice_edge_min <- as.data.frame(ice_edge_min)\n",
    "\n",
    "ggplot(\n",
    "  data = ice_edge_min, aes(x = seq_along(ice_edge_min), y = ice_edge_min)\n",
    ") +\n",
    "  geom_line() +\n",
    "  coord_polar() +\n",
    "  theme_minimal() +\n",
    "  ylim(-85, -50) +\n",
    "  labs(\n",
    "    title = \"Minimalny zasięg lodu Antarktydy\",\n",
    "    x = \"Azymut [°]\", y = \"\"\n",
    "  ) +\n",
    "  scale_x_continuous(breaks = seq(0, 360, 30)) +\n",
    "  theme(\n",
    "    axis.text.x = element_text(size = 16),\n",
    "    axis.text.y = element_blank(),\n",
    "    axis.title = element_text(size = 24),\n",
    "    plot.title = element_text(size = 24, face = \"bold\", hjust = 0.5),\n",
    "    plot.margin = unit(c(16, 16, 16, 16), \"pt\")\n",
    "  )"
   ]
  },
  {
   "cell_type": "markdown",
   "metadata": {},
   "source": [
    "## Animacja czasu rzeczywistego"
   ]
  },
  {
   "cell_type": "code",
   "execution_count": 5,
   "metadata": {
    "vscode": {
     "languageId": "r"
    }
   },
   "outputs": [
    {
     "name": "stderr",
     "output_type": "stream",
     "text": [
      "Output at: animation.gif\n",
      "\n"
     ]
    },
    {
     "data": {
      "text/html": [
       "TRUE"
      ],
      "text/latex": [
       "TRUE"
      ],
      "text/markdown": [
       "TRUE"
      ],
      "text/plain": [
       "[1] TRUE"
      ]
     },
     "metadata": {},
     "output_type": "display_data"
    }
   ],
   "source": [
    "step <- 10\n",
    "\n",
    "sequence <- seq(from = 1, to = nrow(daily_ice_edge), by = step)\n",
    "\n",
    "saveGIF(\n",
    "  for (i in sequence) {\n",
    "    day1 <- t(daily_ice_edge[i, ])\n",
    "\n",
    "    start_index <- 2\n",
    "    end_index <- 361\n",
    "\n",
    "    angles <- c()\n",
    "    for (j in seq(start_index, end_index, 1)) angles[j] <- day1[j]\n",
    "\n",
    "    angles <- as.data.frame(angles)\n",
    "    values <- as.numeric(angles[2:361, ])\n",
    "    angles <- as.numeric(seq(start_index, end_index, 1))\n",
    "\n",
    "    df <- data.frame(angles = angles, values = values)\n",
    "    plt <- ggplot(data = df, aes(x = angles, y = values)) +\n",
    "      geom_line() +\n",
    "      coord_polar() +\n",
    "      theme_minimal() +\n",
    "      ylim(-85, -50) +\n",
    "      labs(\n",
    "        title = paste(\"Zasięg lodu na Antarktydzie dnia \",\n",
    "        format(daily_ice_edge$Date[i])),\n",
    "        x = \"Azymut [°]\", y = \"\"\n",
    "      ) +\n",
    "      scale_x_continuous(breaks = seq(0, 360, 30)) +\n",
    "      theme(\n",
    "        axis.text.x = element_text(size = 16),\n",
    "        axis.text.y = element_blank(),\n",
    "        axis.title = element_text(size = 24),\n",
    "        plot.title = element_text(size = 32, face = \"bold\", hjust = 0.5),\n",
    "        plot.margin = unit(c(16, 16, 16, 16), \"pt\")\n",
    "      )\n",
    "    print(plt)\n",
    "  },\n",
    "  movie.name = \"animation.gif\", interval = 0.2,\n",
    "  ani.width = 800, ani.height = 800\n",
    ")"
   ]
  },
  {
   "cell_type": "markdown",
   "metadata": {},
   "source": [
    "## Model matematyczny\n",
    "\n",
    "Dla każdego azymutu w oparciu o funkcji trygonometryczne "
   ]
  },
  {
   "cell_type": "code",
   "execution_count": 6,
   "metadata": {
    "vscode": {
     "languageId": "r"
    }
   },
   "outputs": [],
   "source": [
    "data <- read.csv(path)\n",
    "data$Date <- dmy(data$Date) # Konwersja na typ danych daty\n",
    "data$Days <- as.numeric(\n",
    "  data$Date - min(data$Date)\n",
    ") # Obliczenie liczby dni od początku pomiarów\n",
    "\n",
    "sine_model <- function(x, A, B, C, D) { # nolint: object_name_linter.\n",
    "  A * sin(B * x + C) + D\n",
    "}\n",
    "# A - amplituda\n",
    "# B - częstotliwość\n",
    "# C - przesunięcie fazowe\n",
    "# D - przesunięcie pionowe\n",
    "model_params <- list()\n",
    "\n",
    "# Obliczenie parametrów modelu dla każdej szerokości geograficznej\n",
    "for (i in seq(2, 361, 1)) {\n",
    "  col <- names(data)[i]\n",
    "  day <- data$Days\n",
    "  ice_extent <- data[[col]]\n",
    "\n",
    "  init_params <- list(\n",
    "    A = 1,\n",
    "    B = 2 * pi / 365.25,\n",
    "    C = 0,\n",
    "    D = mean(ice_extent, na.rm = TRUE)\n",
    "  )\n",
    "\n",
    "  fit <- nlsLM(\n",
    "    ice_extent ~ sine_model(day, A, B, C, D),\n",
    "    start = init_params,\n",
    "    control = nls.lm.control(maxiter = 1024)\n",
    "  )\n",
    "\n",
    "  model_params[[col]] <- coef(fit)\n",
    "}\n"
   ]
  },
  {
   "cell_type": "code",
   "execution_count": 64,
   "metadata": {
    "vscode": {
     "languageId": "r"
    }
   },
   "outputs": [],
   "source": [
    "day <- data$Days\n",
    "day_num <- length(day)\n",
    "azimuths_num <- length(model_params)\n",
    "\n",
    "X <- seq(1, day_num, 1) # nolint: object_name_linter.\n",
    "\n",
    "results <- data.frame(matrix(nrow = length(day), ncol = azimuths_num))\n",
    "names(results) <- paste0(\"azimuth_\", seq(1, azimuths_num, 1))\n",
    "\n",
    "for (i in seq(1, length(model_params), 1)) {\n",
    "  params <- model_params[[col]]\n",
    "  ice_extent <- data$params\n",
    "\n",
    "  Y <- sine_model( # nolint: object_name_linter.\n",
    "    X, params[\"A\"], params[\"B\"], params[\"C\"], params[\"D\"]\n",
    "  )\n",
    "\n",
    "  results[, i] <- Y\n",
    "\n",
    "  col <- names(data)[i + 1]\n",
    "\n",
    "  a <- round(params[\"A\"], 2)\n",
    "  b <- round(params[\"B\"], 2)\n",
    "  c <- round(params[\"C\"], 2)\n",
    "  d <- round(params[\"D\"], 2)\n",
    "\n",
    "  cat(\n",
    "    \"Wzór:\", col, \"y =\", a, \"sin(\", b, \"x +\", c, \") +\", d, \"\\n\"\n",
    "  )\n",
    "}\n"
   ]
  },
  {
   "cell_type": "markdown",
   "metadata": {},
   "source": [
    "## Animacja modelu"
   ]
  },
  {
   "cell_type": "code",
   "execution_count": 78,
   "metadata": {
    "vscode": {
     "languageId": "r"
    }
   },
   "outputs": [
    {
     "name": "stderr",
     "output_type": "stream",
     "text": [
      "Output at: animation.gif\n",
      "\n"
     ]
    },
    {
     "data": {
      "text/html": [
       "TRUE"
      ],
      "text/latex": [
       "TRUE"
      ],
      "text/markdown": [
       "TRUE"
      ],
      "text/plain": [
       "[1] TRUE"
      ]
     },
     "metadata": {},
     "output_type": "display_data"
    }
   ],
   "source": [
    "saveGIF(\n",
    "  for (i in seq(1, 50, 1)) {\n",
    "      plt <- ggplot() +\n",
    "          geom_line(aes(x = seq(1, azimuths_num, 1), y = unlist(results[i, ]))) +\n",
    "          coord_polar() +\n",
    "          scale_y_continuous(limits = c(-85, -50))\n",
    "          print(plt)\n",
    "  },\n",
    "  movie.name = \"animation.gif\", interval = 0.1,\n",
    "  ani.width = 800, ani.height = 800\n",
    ")\n"
   ]
  }
 ],
 "metadata": {
  "kernelspec": {
   "display_name": "R",
   "language": "R",
   "name": "ir"
  },
  "language_info": {
   "codemirror_mode": "r",
   "file_extension": ".r",
   "mimetype": "text/x-r-source",
   "name": "R",
   "pygments_lexer": "r",
   "version": "4.4.0"
  }
 },
 "nbformat": 4,
 "nbformat_minor": 2
}
